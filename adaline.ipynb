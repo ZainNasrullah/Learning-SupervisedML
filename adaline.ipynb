{
 "cells": [
  {
   "cell_type": "code",
   "execution_count": 1,
   "metadata": {
    "collapsed": true
   },
   "outputs": [],
   "source": [
    "%run util.ipynb\n",
    "%matplotlib inline\n",
    "\n",
    "import numpy as np\n",
    "import pandas as pd\n",
    "import matplotlib.pyplot as plt\n",
    "import seaborn as sns\n",
    "from datetime import datetime"
   ]
  },
  {
   "cell_type": "code",
   "execution_count": 14,
   "metadata": {
    "collapsed": true
   },
   "outputs": [],
   "source": [
    "class adaline():\n",
    "    \n",
    "    # eta is the learning rate and n_iter is the number of epochs\n",
    "    def __init__(self, eta=0.01, n_iter=10):\n",
    "        self.eta = eta\n",
    "        self.n_iter = n_iter\n",
    "    \n",
    "    def fit(self, X, Y):\n",
    "        N, D = X.shape\n",
    "        \n",
    "        self.costs = []\n",
    "        self.w = np.zeros(D + 1)\n",
    "        \n",
    "        # iterate through epochs\n",
    "        for i in range(self.n_iter):\n",
    "            activation = np.dot(X, self.w[1:]) + self.w[0] # activation function\n",
    "            error = (Y - activation)\n",
    "            \n",
    "            self.w[0] += self.eta * error.sum() # Bias term\n",
    "            self.w[1:] += self.eta  * X.T.dot(error) # matrix-vector multiplication as a dot product: (NxD) Transposed x (N, 1)\n",
    "            \n",
    "            cost = (error**2).sum() / 2.0\n",
    "            self.costs.append(cost)\n",
    "        \n",
    "        plt.plot(self.costs)\n",
    "        \n",
    "    # return +1 or -1 depending on whether Xw + w0 is positive or not\n",
    "    def predict(self, X):\n",
    "        return np.sign(X.dot(self.w[1:]) + self.w[0])\n",
    "    \n",
    "    def score(self,X,Y):\n",
    "        P = self.predict(X)\n",
    "        return np.mean(P == Y)  "
   ]
  },
  {
   "cell_type": "code",
   "execution_count": 15,
   "metadata": {},
   "outputs": [
    {
     "data": {
      "image/png": "[encoded data removed]",
      "text/plain": [
       "<matplotlib.figure.Figure at 0x159db9f4550>"
      ]
     },
     "metadata": {},
     "output_type": "display_data"
    }
   ],
   "source": [
    "# generating a test data set\n",
    "\n",
    "def get_data_separable():\n",
    "    w = np.array([-0.5, 0.5])\n",
    "    b = 0.1\n",
    "    X = np.random.random((300,2))*2 -1\n",
    "    Y = np.sign(X.dot(w) + b)\n",
    "    return X, Y\n",
    "\n",
    "\n",
    "if __name__ == '__main__':\n",
    "    X, Y = get_data_separable()\n",
    "       \n",
    "    Ntrain = int(len(Y) / 2)\n",
    "    Xtrain, Ytrain = X[:Ntrain], Y[:Ntrain]\n",
    "    Xtest, Ytest = X[Ntrain:], Y[Ntrain:]\n",
    "    \n",
    "    model = adaline(eta=0.01, n_iter=20)\n",
    "    model.fit(Xtrain,Ytrain)"
   ]
  },
  {
   "cell_type": "code",
   "execution_count": 13,
   "metadata": {},
   "outputs": [
    {
     "name": "stdout",
     "output_type": "stream",
     "text": [
      "Train accuracy: 0.953333333333\n",
      "Test accuracy: 0.973333333333\n"
     ]
    }
   ],
   "source": [
    "print(\"Train accuracy:\", model.score(Xtrain, Ytrain))\n",
    "print(\"Test accuracy:\", model.score(Xtest, Ytest))"
   ]
  },
  {
   "cell_type": "code",
   "execution_count": 27,
   "metadata": {},
   "outputs": [
    {
     "name": "stdout",
     "output_type": "stream",
     "text": [
      "[[1 4]\n",
      " [2 5]\n",
      " [3 6]] [1 1 1]\n",
      "(2, 3)\n"
     ]
    },
    {
     "data": {
      "text/plain": [
       "array([ 6, 15])"
      ]
     },
     "execution_count": 27,
     "metadata": {},
     "output_type": "execute_result"
    }
   ],
   "source": [
    "a = np.array([[1,2,3],[4,5,6]])\n",
    "b = np.array([1,1,1])\n",
    "print(a.T,b)\n",
    "print(a.shape)\n",
    "a.dot(b)"
   ]
  }
 ],
 "metadata": {
  "kernelspec": {
   "display_name": "Python 3",
   "language": "python",
   "name": "python3"
  },
  "language_info": {
   "codemirror_mode": {
    "name": "ipython",
    "version": 3
   },
   "file_extension": ".py",
   "mimetype": "text/x-python",
   "name": "python",
   "nbconvert_exporter": "python",
   "pygments_lexer": "ipython3",
   "version": "3.6.1"
  }
 },
 "nbformat": 4,
 "nbformat_minor": 2
}
