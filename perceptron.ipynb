{
 "cells": [
  {
   "cell_type": "code",
   "execution_count": 39,
   "metadata": {
    "collapsed": true
   },
   "outputs": [],
   "source": [
    "%run util.ipynb\n",
    "%matplotlib inline\n",
    "\n",
    "import numpy as np\n",
    "import pandas as pd\n",
    "import matplotlib.pyplot as plt\n",
    "import seaborn as sns\n",
    "from datetime import datetime"
   ]
  },
  {
   "cell_type": "code",
   "execution_count": 48,
   "metadata": {
    "collapsed": true
   },
   "outputs": [],
   "source": [
    "class perceptron():\n",
    "    \n",
    "    # eta is the learning rate and n_iter is the number of epochs\n",
    "    def __init__(self, eta=0.01, n_iter=10):\n",
    "        self.eta = eta\n",
    "        self.n_iter = n_iter\n",
    "    \n",
    "    def fit(self, X, Y):\n",
    "        N, D = X.shape\n",
    "        \n",
    "        # create list of errors\n",
    "        # create weight array including additional slot for bias\n",
    "        self.errors = []\n",
    "        self.w = np.zeros(D + 1)\n",
    "        \n",
    "        # iterate through epochs\n",
    "        for i in range(self.n_iter):\n",
    "            error = 0 # initially 0 at the beginning of each iteration\n",
    "            \n",
    "            # use perceptron rule and update weights\n",
    "            for xi, target in list(zip(X,Y)):\n",
    "                update = self.eta * (target - self.predict(xi))\n",
    "                self.w[0] +=  update\n",
    "                self.w[1:] += update * xi\n",
    "                error += int(update != 0) # keeps track of # of errors\n",
    "            self.errors.append(error)\n",
    "        # plot results each epoch\n",
    "        plt.plot(self.errors)\n",
    "        \n",
    "    # return +1 or -1 depending on whether Xw + w0 is positive or not\n",
    "    def predict(self, X):\n",
    "        return np.sign(X.dot(self.w[1:]) + self.w[0])\n",
    "    \n",
    "    def score(self,X,Y):\n",
    "        P = self.predict(X)\n",
    "        return np.mean(P == Y)  "
   ]
  },
  {
   "cell_type": "code",
   "execution_count": 76,
   "metadata": {},
   "outputs": [
    {
     "data": {
      "image/png": "[encoded data removed]",
      "text/plain": [
       "<matplotlib.figure.Figure at 0x18001495a90>"
      ]
     },
     "metadata": {},
     "output_type": "display_data"
    }
   ],
   "source": [
    "# generating a test data set\n",
    "\n",
    "def get_data_separable():\n",
    "    w = np.array([-0.5, 0.5])\n",
    "    b = 0.1\n",
    "    X = np.random.random((300,2))*2 -1\n",
    "    Y = np.sign(X.dot(w) + b)\n",
    "    return X, Y\n",
    "\n",
    "\n",
    "if __name__ == '__main__':\n",
    "    X, Y = get_data_separable()\n",
    "       \n",
    "    Ntrain = int(len(Y) / 2)\n",
    "    Xtrain, Ytrain = X[:Ntrain], Y[:Ntrain]\n",
    "    Xtest, Ytest = X[Ntrain:], Y[Ntrain:]\n",
    "    \n",
    "    model = perceptron(eta=0.01, n_iter=50)\n",
    "    model.fit(Xtrain,Ytrain)"
   ]
  },
  {
   "cell_type": "code",
   "execution_count": 79,
   "metadata": {},
   "outputs": [
    {
     "data": {
      "image/png": "[encoded data removed]",
      "text/plain": [
       "<matplotlib.figure.Figure at 0x18001478630>"
      ]
     },
     "metadata": {},
     "output_type": "display_data"
    }
   ],
   "source": [
    "# using the mnist data set\n",
    "\n",
    "if __name__ == '__main__':\n",
    "    X, Y = get_data()\n",
    "    \n",
    "    idx = np.logical_or(Y == 0, Y ==1) # returns true where Y = 0 or 1\n",
    "    \n",
    "    # keep indexes where idx is true\n",
    "    X = X[idx] \n",
    "    Y = Y[idx]\n",
    "    \n",
    "    # remember perceptron is binary between -1 and 1\n",
    "    Y[Y==0] = -1\n",
    "    \n",
    "    Ntrain = int(len(Y) / 2)\n",
    "    Xtrain, Ytrain = X[:Ntrain], Y[:Ntrain]\n",
    "    Xtest, Ytest = X[Ntrain:], Y[Ntrain:]\n",
    "    \n",
    "    model = perceptron(0.01, 50)\n",
    "    model.fit(Xtrain,Ytrain)"
   ]
  },
  {
   "cell_type": "code",
   "execution_count": 80,
   "metadata": {},
   "outputs": [
    {
     "name": "stdout",
     "output_type": "stream",
     "text": [
      "Train accuracy: 1.0\n",
      "Test accuracy: 0.998185117967\n"
     ]
    }
   ],
   "source": [
    "print(\"Train accuracy:\", model.score(Xtrain, Ytrain))\n",
    "print(\"Test accuracy:\", model.score(Xtest, Ytest))"
   ]
  }
 ],
 "metadata": {
  "kernelspec": {
   "display_name": "Python 3",
   "language": "python",
   "name": "python3"
  },
  "language_info": {
   "codemirror_mode": {
    "name": "ipython",
    "version": 3
   },
   "file_extension": ".py",
   "mimetype": "text/x-python",
   "name": "python",
   "nbconvert_exporter": "python",
   "pygments_lexer": "ipython3",
   "version": "3.6.1"
  }
 },
 "nbformat": 4,
 "nbformat_minor": 2
}
