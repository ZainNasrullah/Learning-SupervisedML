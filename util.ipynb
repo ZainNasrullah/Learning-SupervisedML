{
 "cells": [
  {
   "cell_type": "code",
   "execution_count": null,
   "metadata": {
    "collapsed": true
   },
   "outputs": [],
   "source": [
    "#MNIST data set for classifying numbers by pixels in an image\n",
    "# Reminder that the data is in the form of a 28 by 28 matrix which represents an image containing a number\n",
    "# The matrix is presented in vector form where each row corresponds to a number with 784 dimensions (28 x 28)\n",
    "\n",
    "def get_data(limit=None):\n",
    "\n",
    "    # Reading the data\n",
    "    df = pd.read_csv('train.csv')\n",
    "\n",
    "    # Convert to a numpy array and shuffle for randomness\n",
    "    data = df.as_matrix()\n",
    "    np.random.shuffle(data)\n",
    "\n",
    "    # Seperate the pixel data from the label associated with it\n",
    "    X = data[:, 1:] / 255\n",
    "    Y = data[:, 0]\n",
    "    \n",
    "    # If there's a limit on how much data we want to use\n",
    "    if limit is not None:\n",
    "        X, Y = X[:limit], Y[:limit]\n",
    "        \n",
    "    return X,Y"
   ]
  },
  {
   "cell_type": "code",
   "execution_count": null,
   "metadata": {
    "collapsed": true
   },
   "outputs": [],
   "source": [
    "# Case where kNN fails: Alternating points (train accuracy of 0)\n",
    "\n",
    "def get_data_failure():\n",
    "    \n",
    "    # 64 data points\n",
    "    width = 8\n",
    "    height = 8\n",
    "    N = width * height\n",
    "    \n",
    "    # Create a zero matrix with 64 rows and 2 columns\n",
    "    X = np.zeros((N,2))\n",
    "    Y = np.zeros(N)\n",
    "    \n",
    "    # n is the index for each point and start_t is the alternating value (0,1)\n",
    "    n = 0\n",
    "    start_t = 0\n",
    "    \n",
    "    # for each value (i,j), classification (y) should alternate 0 and 1\n",
    "    for i in range(width):\n",
    "        t = start_t \n",
    "        \n",
    "        for j in range(height):\n",
    "            X[n] = [i,j] # creates a N point grid\n",
    "            Y[n] = t     # classifies each point on grid as 0 or 1\n",
    "            n += 1\n",
    "            t = (t + 1) % 2 # alternates point value between columns\n",
    "            \n",
    "        start_t = (start_t + 1) % 2 # alternates value between rows\n",
    "    return X, Y"
   ]
  },
  {
   "cell_type": "code",
   "execution_count": null,
   "metadata": {
    "collapsed": true
   },
   "outputs": [],
   "source": [
    "# Looking at the XOR Problem (data is not linearly separable but kNN still works)\n",
    "# 00 -> 0, 11 -> 0, 01 -> 1, 10 -> 1\n",
    "\n",
    "# Generating ranges of values that do and do not match \n",
    "# \n",
    "def get_xor():\n",
    "    X = np.zeros((200, 2)) # 200 rows, 2 columns\n",
    "    \n",
    "    # random are between 0-1, divide by 2 to get 0-0.5, add 0.5 to get 0.5-1\n",
    "    X[:50] = np.random.random((50,2)) / 2 + 0.5  #(0.5-1, 0.5-1)\n",
    "    X[50:100] = np.random.random((50,2)) / 2     # (0-0.5, 0-0.5)\n",
    "    X[100:150] = np.random.random((50,2)) / 2 + np.array([[0,0.5]])  # (0-0.5, 0.5-1)\n",
    "    X[150:] = np.random.random((50,2)) / 2 + np.array([[0.5,0]])     # (0.5-1, 0-0.5)\n",
    "    \n",
    "    Y = np.array([0]*100 + [1]*100)\n",
    "    return X, Y\n"
   ]
  },
  {
   "cell_type": "code",
   "execution_count": null,
   "metadata": {
    "collapsed": true
   },
   "outputs": [],
   "source": [
    "# Donut Problem (data still isn't linearly seperable)\n",
    "# Small circle inside a bigger circle\n",
    "\n",
    "def get_donut():\n",
    "    N = 200\n",
    "    R_inner = 5\n",
    "    R_outer = 10\n",
    "\n",
    "    # distance from origin is radius + random normal\n",
    "    # angle theta is N/2 uniformly distributed values between (0, 2pi)\n",
    "    R1 = np.random.randn(int(N/2)) + R_inner\n",
    "    theta = 2 * np.pi * np.random.random(int(N/2))\n",
    "    \n",
    "    # Converts from polar to cartesian coordinates \n",
    "    # x = rcos(theta), y = rsin(theta)\n",
    "    # The transpose puts it into coordinate form (swapping indices)\n",
    "    X_inner = np.concatenate([[R1 * np.cos(theta)], [R1 * np.sin(theta)]]).T\n",
    "\n",
    "    # Same as above\n",
    "    R2 = np.random.randn(int(N/2)) + R_outer\n",
    "    theta = 2 * np.pi * np.random.random(int(N/2))\n",
    "    X_outer = np.concatenate([[R2 * np.cos(theta)], [R2 * np.sin(theta)]]).T\n",
    "\n",
    "    # Combine the data into singular arrays\n",
    "    X = np.concatenate([X_inner, X_outer])\n",
    "    Y = np.array([0]*(int(N/2)) + [1]*(int(N/2))) # Inners are 0, outers are 1\n",
    "    return X, Y"
   ]
  }
 ],
 "metadata": {
  "kernelspec": {
   "display_name": "Python [default]",
   "language": "python",
   "name": "python3"
  },
  "language_info": {
   "codemirror_mode": {
    "name": "ipython",
    "version": 3
   },
   "file_extension": ".py",
   "mimetype": "text/x-python",
   "name": "python",
   "nbconvert_exporter": "python",
   "pygments_lexer": "ipython3",
   "version": "3.5.2"
  }
 },
 "nbformat": 4,
 "nbformat_minor": 2
}
